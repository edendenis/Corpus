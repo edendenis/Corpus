{
 "cells": [
  {
   "cell_type": "markdown",
   "metadata": {},
   "source": [
    "# Corpus\n",
    "\n",
    "\n"
   ]
  },
  {
   "cell_type": "markdown",
   "metadata": {},
   "source": [
    "## Resumo\n",
    "\n",
    "Aplicação Computacional de Corpus. O programa Corpus calcula o Índice de Massa Corporal (IMC) convertendo os dados de temperatura. Ele avalia as proporções de peso e altura, fornecendo informações sobre os níveis de saúde e condicionamento físico.\n",
    "\n",
    "## _Abstract_\n",
    "\n",
    "_Computational Application of Corpus. The Corpus program calculates Body Mass Index (BMI) by converting temperature data. It assesses weight and height ratios, providing insights into health and fitness levels._\n"
   ]
  },
  {
   "cell_type": "markdown",
   "metadata": {},
   "source": [
    "## Revisão(ões)/Versão(ões)\n",
    "\n",
    "| Revisão número | Data da revisão | Descrição da revisão                                    | Autor da revisão                                |\n",
    "|:--------------:|:---------------:|:--------------------------------------------------------|:------------------------------------------------|\n",
    "| 0              | 17/02/2024      | <ul><li>Revisão inicial/criação do documento.</li></ul> | <ul><li>Eden Denis F. da S. L. Santos</li></ul> |\n"
   ]
  },
  {
   "cell_type": "markdown",
   "metadata": {},
   "source": [
    "## 1. Como executar a aplicação\n",
    "\n",
    "1. Abrir o arquivo `main_<nome_da_aplicacao>.xlsm` o qual está com comentários, alterar o banco de dados (existem exemplos de bancos de dados) na pasta que deverá ser utilizado para a execução e executar todas as células. \n",
    "    \n",
    "    Perceber que o <nome_da_aplicacao> trata-se, redudantemente, do nome da aplicação. Coloquei desta forma, pois quis, por ora, generalizar o arquivo `README.md` para poder criar o repositório de cada uma das aplicações que desenvolvi ao longo da minha carreira."
   ]
  },
  {
   "cell_type": "markdown",
   "metadata": {},
   "source": [
    "## Referências\n",
    "\n",
    "[1] RICIERI, A. P.. ***Curso matemática aplicada à vida***. Prandiano, São Paulo, 2005.\n",
    "\n",
    "[2] SANTOS, E. D. F. da S. L.. ***Curso de excel: módulo i***. EDF Tecnologia, São Paulo, 2011.\n"
   ]
  }
 ],
 "metadata": {
  "kernelspec": {
   "display_name": "Python 3 (ipykernel)",
   "language": "python",
   "name": "python3"
  },
  "language_info": {
   "codemirror_mode": {
    "name": "ipython",
    "version": 3
   },
   "file_extension": ".py",
   "mimetype": "text/x-python",
   "name": "python",
   "nbconvert_exporter": "python",
   "pygments_lexer": "ipython3",
   "version": "3.11.5"
  }
 },
 "nbformat": 4,
 "nbformat_minor": 2
}
